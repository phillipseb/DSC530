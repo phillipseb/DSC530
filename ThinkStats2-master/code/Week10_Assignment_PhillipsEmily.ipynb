{
 "cells": [
  {
   "cell_type": "markdown",
   "id": "a4c781ec",
   "metadata": {},
   "source": [
    "**Exercise:**    In NSFG Cycles 6 and 7, the variable `cmdivorcx` contains the date of divorce for the respondent’s first marriage, if applicable, encoded in century-months.\n",
    "\n",
    "Compute the duration of marriages that have ended in divorce, and the duration, so far, of marriages that are ongoing. Estimate the hazard and survival curve for the duration of marriage.\n",
    "\n",
    "Use resampling to take into account sampling weights, and plot data from several resamples to visualize sampling error.\n",
    "\n",
    "Consider dividing the respondents into groups by decade of birth, and possibly by age at first marriage."
   ]
  },
  {
   "cell_type": "code",
   "execution_count": 32,
   "id": "0b3311ee",
   "metadata": {},
   "outputs": [],
   "source": [
    "#Libraries needed for the assignment\n",
    "\n",
    "from __future__ import print_function, division\n",
    "\n",
    "%matplotlib inline\n",
    "\n",
    "import warnings\n",
    "warnings.filterwarnings('ignore', category=FutureWarning)\n",
    "\n",
    "import numpy as np\n",
    "import pandas as pd\n",
    "\n",
    "import random\n",
    "\n",
    "import thinkstats2\n",
    "import thinkplot\n",
    "\n",
    "import nsfg\n",
    "import survival\n",
    "\n",
    "from collections import Counter"
   ]
  },
  {
   "cell_type": "code",
   "execution_count": 33,
   "id": "7997972b",
   "metadata": {},
   "outputs": [],
   "source": [
    "#Using NSFG respondent file for age at first marriage\n",
    "resp6 = nsfg.ReadFemResp()\n",
    "\n",
    "#Dataset for resp7 -- respondent file from 2010\n",
    "resp7 = survival.ReadFemResp2010()"
   ]
  },
  {
   "cell_type": "code",
   "execution_count": 42,
   "id": "27b0a343",
   "metadata": {},
   "outputs": [],
   "source": [
    "#Cleaning the respondent data\n",
    "#Removing NA values and creating variables for divorce information\n",
    "#Creating correct date values & getting decades for grouping\n",
    "def CleanData(resp):\n",
    "    \"\"\"Cleans respondent data.\n",
    "    resp: DataFrame\n",
    "    \"\"\"\n",
    "    #Replace NA values for date of divorce field\n",
    "    resp.cmdivorcx.replace([9998, 9999], np.nan, inplace=True)\n",
    "\n",
    "    #If not divorced, date of divorce field (cmdivorcx) is null\n",
    "    resp['notdivorced'] = resp.cmdivorcx.isnull().astype(int)\n",
    "    #Duration -- subtracting date of divorce from date of marriage and dividing by 12 for years\n",
    "    resp['duration'] = (resp.cmdivorcx - resp.cmmarrhx) / 12.0\n",
    "    #Duration so far -- subtracting current time from date of marriage\n",
    "    resp['durationsofar'] = (resp.cmintvw - resp.cmmarrhx) / 12.0\n",
    "\n",
    "    month0 = pd.to_datetime('1899-12-15')\n",
    "    dates = [month0 + pd.DateOffset(months=cm) \n",
    "             for cm in resp.cmbirth]\n",
    "    #Getting decades for groups\n",
    "    resp['decade'] = (pd.DatetimeIndex(dates).year - 1900) // 10"
   ]
  },
  {
   "cell_type": "code",
   "execution_count": 43,
   "id": "635c1e2a",
   "metadata": {},
   "outputs": [],
   "source": [
    "#Two resp dataframes & extracting the people who are married\n",
    "CleanData(resp6)\n",
    "married6 = resp6[resp6.evrmarry==1]\n",
    "\n",
    "CleanData(resp7)\n",
    "married7 = resp7[resp7.evrmarry==1]\n",
    "\n",
    "#cmdivorcx -- date of divorce for the respondent's first marriage, encoded in century-months"
   ]
  },
  {
   "cell_type": "markdown",
   "id": "c056f126",
   "metadata": {},
   "source": [
    "Compute the duration of marriages that have ended in divorce, and the duration, so far, of marriages that are ongoing. Estimate the hazard and survival curve for the duration of marriage."
   ]
  },
  {
   "cell_type": "code",
   "execution_count": 44,
   "id": "10dffdab",
   "metadata": {},
   "outputs": [],
   "source": [
    "#This function will estimate the hazard and survival curve for the duration of marriage\n",
    "def EstimateSurvivalDivorce(resp):\n",
    "    \"\"\"Estimates the hazard & survival curve for duration of marriage.\n",
    "    resp: DataFrame of respondents\n",
    "    returns: pair of HazardFunction, SurvivalFunction\n",
    "    \"\"\"\n",
    "    \n",
    "    #resp.notdivorced == 0, ended in divroce\n",
    "    #resp.notdivorced ==1, marriages that are ongoing\n",
    "    complete = resp[resp.notdivorced == 0].duration.dropna()\n",
    "    ongoing = resp[resp.notdivorced == 1].durationsofar.dropna()\n",
    "\n",
    "    #Estimate hazard and survival curves\n",
    "    hf = survival.EstimateHazardFunction(complete, ongoing)\n",
    "    sf = hf.MakeSurvival()\n",
    "\n",
    "    return hf, sf"
   ]
  },
  {
   "cell_type": "markdown",
   "id": "f7aeff87",
   "metadata": {},
   "source": [
    "Use resampling to take into account sampling weights, and plot data from several resamples to visualize sampling error."
   ]
  },
  {
   "cell_type": "code",
   "execution_count": 46,
   "id": "fd794031",
   "metadata": {},
   "outputs": [],
   "source": [
    "#Resampling the dataframes\n",
    "#Take into account sampling weights\n",
    "def ResampleDivorceCurve(resps):\n",
    "    \"\"\"Plots divorce curves based on resampled data.\n",
    "    resps: list of respondent DataFrames\n",
    "    \"\"\"\n",
    "    \n",
    "    #Generating samples\n",
    "    for _ in range(11):\n",
    "        #Sampling weights\n",
    "        samples = [thinkstats2.ResampleRowsWeighted(resp) \n",
    "                   for resp in resps]\n",
    "        #Creating one sample out of various samples\n",
    "        sample = pd.concat(samples, ignore_index=True)\n",
    "        PlotDivorceCurveByDecade(sample, color='#225EA8', alpha=0.1)\n",
    "\n",
    "    thinkplot.Show(xlabel='years',\n",
    "                   axis=[0, 28, 0, 1])"
   ]
  },
  {
   "cell_type": "code",
   "execution_count": 47,
   "id": "a9f33a92",
   "metadata": {},
   "outputs": [],
   "source": [
    "def ResampleDivorceCurveByDecade(resps):\n",
    "    \"\"\"Plots divorce curves for each birth cohort.\n",
    "    resps: list of respondent DataFrames    \n",
    "    \"\"\"\n",
    "    #Same resampling method as above but for groups by decade of birth \n",
    "    for i in range(41):\n",
    "        samples = [thinkstats2.ResampleRowsWeighted(resp) \n",
    "                   for resp in resps]\n",
    "        sample = pd.concat(samples, ignore_index=True)\n",
    "        groups = sample.groupby('decade')\n",
    "        if i == 0:\n",
    "            survival.AddLabelsByDecade(groups, alpha=0.7)\n",
    "\n",
    "        EstimateSurvivalByDecade(groups, alpha=0.1)\n",
    "\n",
    "    thinkplot.Config(xlabel='Years',\n",
    "                     ylabel='Fraction undivorced',\n",
    "                     axis=[0, 28, 0, 1])"
   ]
  },
  {
   "cell_type": "code",
   "execution_count": 48,
   "id": "7cb491fa",
   "metadata": {},
   "outputs": [],
   "source": [
    "#Functions from Ch.13 code \n",
    "#Updated EstimateSurvivalByDecade to use the created EstimateSurvivalDivorce function\n",
    "\n",
    "def AddLabelsByDecade(groups, **options):\n",
    "    \"\"\"Draws fake points in order to add labels to the legend.\n",
    "    groups: GroupBy object\n",
    "    \"\"\"\n",
    "    thinkplot.PrePlot(len(groups))\n",
    "    for name, _ in groups:\n",
    "        label = '%d0s' % name\n",
    "        thinkplot.Plot([15], [1], label=label, **options)\n",
    "\n",
    "def EstimateSurvivalByDecade(groups, **options):\n",
    "    \"\"\"Groups respondents by decade and plots survival curves for the duration of marriage in each group.\n",
    "    groups: GroupBy object\n",
    "    \"\"\"\n",
    "    \n",
    "    thinkplot.PrePlot(len(groups))\n",
    "    for _, group in groups:\n",
    "        _, sf = EstimateSurvivalDivorce(group)\n",
    "        thinkplot.Plot(sf, **options)\n",
    "\n",
    "def PlotResampledByDecade(resps, iters=11, predict_flag=False, omit=None):\n",
    "    \"\"\"Plots survival curves for resampled data.\n",
    "    resps: list of DataFrames\n",
    "    iters: number of resamples to plot\n",
    "    predict_flag: whether to also plot predictions\n",
    "    \"\"\"\n",
    "    for i in range(iters):\n",
    "        samples = [thinkstats2.ResampleRowsWeighted(resp) \n",
    "                   for resp in resps]\n",
    "        sample = pd.concat(samples, ignore_index=True)\n",
    "        groups = sample.groupby('decade')\n",
    "\n",
    "        if omit:\n",
    "            groups = [(name, group) for name, group in groups \n",
    "                      if name not in omit]\n",
    "\n",
    "        # TODO: refactor this to collect resampled estimates and\n",
    "        # plot shaded areas\n",
    "        if i == 0:\n",
    "            AddLabelsByDecade(groups, alpha=0.7)\n",
    "\n",
    "        if predict_flag:\n",
    "            PlotPredictionsByDecade(groups, alpha=0.1)\n",
    "            EstimateMarriageSurvivalByDecade(groups, alpha=0.1)\n",
    "        else:\n",
    "            EstimateMarriageSurvivalByDecade(groups, alpha=0.2)"
   ]
  },
  {
   "cell_type": "code",
   "execution_count": 49,
   "id": "f1001344",
   "metadata": {},
   "outputs": [],
   "source": [
    "resps = [married6, married7]"
   ]
  },
  {
   "cell_type": "code",
   "execution_count": 50,
   "id": "584e6f82",
   "metadata": {},
   "outputs": [
    {
     "data": {
      "image/png": "[encoded data removed]",
      "text/plain": [
       "<Figure size 432x288 with 1 Axes>"
      ]
     },
     "metadata": {
      "needs_background": "light"
     },
     "output_type": "display_data"
    }
   ],
   "source": [
    "ResampleDivorceCurveByDecade(resps)"
   ]
  },
  {
   "cell_type": "code",
   "execution_count": null,
   "id": "69a832ec",
   "metadata": {},
   "outputs": [],
   "source": []
  }
 ],
 "metadata": {
  "kernelspec": {
   "display_name": "Python 3",
   "language": "python",
   "name": "python3"
  },
  "language_info": {
   "codemirror_mode": {
    "name": "ipython",
    "version": 3
   },
   "file_extension": ".py",
   "mimetype": "text/x-python",
   "name": "python",
   "nbconvert_exporter": "python",
   "pygments_lexer": "ipython3",
   "version": "3.8.8"
  }
 },
 "nbformat": 4,
 "nbformat_minor": 5
}
